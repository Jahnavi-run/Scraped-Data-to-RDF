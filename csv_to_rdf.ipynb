{
  "nbformat": 4,
  "nbformat_minor": 0,
  "metadata": {
    "colab": {
      "provenance": [],
      "authorship_tag": "ABX9TyNTrJmsRalYMgmaDw9ePiZ6",
      "include_colab_link": true
    },
    "kernelspec": {
      "name": "python3",
      "display_name": "Python 3"
    },
    "language_info": {
      "name": "python"
    }
  },
  "cells": [
    {
      "cell_type": "markdown",
      "metadata": {
        "id": "view-in-github",
        "colab_type": "text"
      },
      "source": [
        "<a href=\"https://colab.research.google.com/github/Jahnavi-run/Scraped-Data-to-RDF/blob/main/csv_to_rdf.ipynb\" target=\"_parent\"><img src=\"https://colab.research.google.com/assets/colab-badge.svg\" alt=\"Open In Colab\"/></a>"
      ]
    },
    {
      "cell_type": "markdown",
      "source": [
        "**Notebook to convert csv data of scraped imdb movies into RDF data.**"
      ],
      "metadata": {
        "id": "HX3ZjC5EQo4l"
      }
    },
    {
      "cell_type": "markdown",
      "source": [
        "Install required packages - rdflib and pandas."
      ],
      "metadata": {
        "id": "E8fYEgxkNkDY"
      }
    },
    {
      "cell_type": "code",
      "source": [
        "!pip install rdflib\n",
        "!pip install pandas"
      ],
      "metadata": {
        "colab": {
          "base_uri": "https://localhost:8080/"
        },
        "id": "ArxMAd4ZNkRT",
        "outputId": "2989d0f6-365e-43c7-aa7c-1b6340886229"
      },
      "execution_count": 1,
      "outputs": [
        {
          "output_type": "stream",
          "name": "stdout",
          "text": [
            "Collecting rdflib\n",
            "  Downloading rdflib-7.1.3-py3-none-any.whl.metadata (11 kB)\n",
            "Requirement already satisfied: pyparsing<4,>=2.1.0 in /usr/local/lib/python3.11/dist-packages (from rdflib) (3.2.1)\n",
            "Downloading rdflib-7.1.3-py3-none-any.whl (564 kB)\n",
            "\u001b[?25l   \u001b[90m━━━━━━━━━━━━━━━━━━━━━━━━━━━━━━━━━━━━━━━━\u001b[0m \u001b[32m0.0/564.9 kB\u001b[0m \u001b[31m?\u001b[0m eta \u001b[36m-:--:--\u001b[0m\r\u001b[2K   \u001b[91m━━━━━━━━━━━━━━━━━━━\u001b[0m\u001b[91m╸\u001b[0m\u001b[90m━━━━━━━━━━━━━━━━━━━━\u001b[0m \u001b[32m276.5/564.9 kB\u001b[0m \u001b[31m7.8 MB/s\u001b[0m eta \u001b[36m0:00:01\u001b[0m\r\u001b[2K   \u001b[90m━━━━━━━━━━━━━━━━━━━━━━━━━━━━━━━━━━━━━━━━\u001b[0m \u001b[32m564.9/564.9 kB\u001b[0m \u001b[31m8.6 MB/s\u001b[0m eta \u001b[36m0:00:00\u001b[0m\n",
            "\u001b[?25hInstalling collected packages: rdflib\n",
            "Successfully installed rdflib-7.1.3\n",
            "Requirement already satisfied: pandas in /usr/local/lib/python3.11/dist-packages (2.2.2)\n",
            "Requirement already satisfied: numpy>=1.23.2 in /usr/local/lib/python3.11/dist-packages (from pandas) (2.0.2)\n",
            "Requirement already satisfied: python-dateutil>=2.8.2 in /usr/local/lib/python3.11/dist-packages (from pandas) (2.8.2)\n",
            "Requirement already satisfied: pytz>=2020.1 in /usr/local/lib/python3.11/dist-packages (from pandas) (2025.1)\n",
            "Requirement already satisfied: tzdata>=2022.7 in /usr/local/lib/python3.11/dist-packages (from pandas) (2025.1)\n",
            "Requirement already satisfied: six>=1.5 in /usr/local/lib/python3.11/dist-packages (from python-dateutil>=2.8.2->pandas) (1.17.0)\n"
          ]
        }
      ]
    },
    {
      "cell_type": "markdown",
      "source": [
        "Importing from installed packages."
      ],
      "metadata": {
        "id": "MDAK4SPbNlCp"
      }
    },
    {
      "cell_type": "code",
      "source": [
        "from rdflib import Graph, Literal, RDF, URIRef, Namespace\n",
        "import pandas as pd"
      ],
      "metadata": {
        "id": "o3AIZoNjNlMj"
      },
      "execution_count": 2,
      "outputs": []
    },
    {
      "cell_type": "markdown",
      "source": [
        "Upload the cleanded csv file of scraped data."
      ],
      "metadata": {
        "id": "DtHr6R2KNr4n"
      }
    },
    {
      "cell_type": "code",
      "source": [
        "from google.colab import files\n",
        "import pandas as pd\n",
        "\n",
        "# Upload the file\n",
        "uploaded = files.upload()  # This will prompt a file selection dialog\n",
        "\n",
        "# Read the CSV\n",
        "file_name = list(uploaded.keys())[0]\n",
        "df = pd.read_csv(file_name)\n",
        "\n",
        "# Display the first 5 rows\n",
        "df.head()"
      ],
      "metadata": {
        "id": "l07O3oslNsC8"
      },
      "execution_count": null,
      "outputs": []
    },
    {
      "cell_type": "markdown",
      "source": [
        "Initialising graph and adding triples for movie names, decription and ratings."
      ],
      "metadata": {
        "id": "6GUR_sSaNwTM"
      }
    },
    {
      "cell_type": "code",
      "source": [
        "# Initialize RDF graph\n",
        "g = Graph()\n",
        "schema = Namespace(\"https://schema.org/\")\n",
        "\n",
        "for _, row in df.iterrows():\n",
        "    movie_uri = URIRef(row['movie_uri'])  # Read URI directly from CSV\n",
        "    g.add((movie_uri, schema.name, Literal(row['movie_title'])))\n",
        "    g.add((movie_uri, schema.description, Literal(row['synopsis'])))\n",
        "    g.add((movie_uri, schema.ratingValue, Literal(row['rating'])))"
      ],
      "metadata": {
        "id": "rlx9N_AQNwcx"
      },
      "execution_count": 4,
      "outputs": []
    },
    {
      "cell_type": "markdown",
      "source": [
        "Creating blank nodes for genre as multiple genres can be associated with each movie."
      ],
      "metadata": {
        "id": "7vBalqbmOdqM"
      }
    },
    {
      "cell_type": "code",
      "source": [
        "from rdflib import BNode\n",
        "\n",
        "# Create a blank node for genres\n",
        "genre_group = BNode()\n",
        "g.add((movie_uri, schema.genre, genre_group))\n",
        "\n",
        "# Split and strip genres\n",
        "genres = [genre.strip() for genre in row[\"genre\"].split(\",\")]\n",
        "\n",
        "# Add each genre to the graph\n",
        "for genre in genres:\n",
        "    g.add((genre_group, schema.name, Literal(genre)))"
      ],
      "metadata": {
        "id": "bof7LX_GOd2S"
      },
      "execution_count": 5,
      "outputs": []
    },
    {
      "cell_type": "markdown",
      "source": [
        "Saving and downloading as a turtle file."
      ],
      "metadata": {
        "id": "xAuv2ipqOfYo"
      }
    },
    {
      "cell_type": "code",
      "source": [
        "# Save as Turtle format\n",
        "g.serialize('imdb_movies.ttl', format='turtle')\n",
        "\n",
        "# Download the file to your local machine\n",
        "files.download('imdb_movies.ttl')"
      ],
      "metadata": {
        "colab": {
          "base_uri": "https://localhost:8080/",
          "height": 17
        },
        "id": "NQ5mSKV0Ofjm",
        "outputId": "b701a804-5c47-4a4d-a502-95c499662ef1"
      },
      "execution_count": 7,
      "outputs": [
        {
          "output_type": "display_data",
          "data": {
            "text/plain": [
              "<IPython.core.display.Javascript object>"
            ],
            "application/javascript": [
              "\n",
              "    async function download(id, filename, size) {\n",
              "      if (!google.colab.kernel.accessAllowed) {\n",
              "        return;\n",
              "      }\n",
              "      const div = document.createElement('div');\n",
              "      const label = document.createElement('label');\n",
              "      label.textContent = `Downloading \"${filename}\": `;\n",
              "      div.appendChild(label);\n",
              "      const progress = document.createElement('progress');\n",
              "      progress.max = size;\n",
              "      div.appendChild(progress);\n",
              "      document.body.appendChild(div);\n",
              "\n",
              "      const buffers = [];\n",
              "      let downloaded = 0;\n",
              "\n",
              "      const channel = await google.colab.kernel.comms.open(id);\n",
              "      // Send a message to notify the kernel that we're ready.\n",
              "      channel.send({})\n",
              "\n",
              "      for await (const message of channel.messages) {\n",
              "        // Send a message to notify the kernel that we're ready.\n",
              "        channel.send({})\n",
              "        if (message.buffers) {\n",
              "          for (const buffer of message.buffers) {\n",
              "            buffers.push(buffer);\n",
              "            downloaded += buffer.byteLength;\n",
              "            progress.value = downloaded;\n",
              "          }\n",
              "        }\n",
              "      }\n",
              "      const blob = new Blob(buffers, {type: 'application/binary'});\n",
              "      const a = document.createElement('a');\n",
              "      a.href = window.URL.createObjectURL(blob);\n",
              "      a.download = filename;\n",
              "      div.appendChild(a);\n",
              "      a.click();\n",
              "      div.remove();\n",
              "    }\n",
              "  "
            ]
          },
          "metadata": {}
        },
        {
          "output_type": "display_data",
          "data": {
            "text/plain": [
              "<IPython.core.display.Javascript object>"
            ],
            "application/javascript": [
              "download(\"download_f4b5de51-3786-4aad-808c-7b66da41c6a1\", \"imdb_movies.ttl\", 7831)"
            ]
          },
          "metadata": {}
        }
      ]
    }
  ]
}